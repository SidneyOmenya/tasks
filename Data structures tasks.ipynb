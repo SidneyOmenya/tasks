{
 "cells": [
  {
   "cell_type": "code",
   "execution_count": 1,
   "id": "0203f0ef",
   "metadata": {},
   "outputs": [
    {
     "name": "stdout",
     "output_type": "stream",
     "text": [
      "Enter a number: 32\n",
      "Enter a number: 3\n",
      "Enter a number: 1\n",
      "Enter a number: 5\n",
      "Enter a number: \n",
      "\n",
      "[1, 3, 5, 32]\n"
     ]
    }
   ],
   "source": [
    "#Question1\n",
    "def my_list():    \n",
    "    my_list=[]\n",
    "    while True:\n",
    "        e=input(\"Enter a number: \")\n",
    "        if e.isnumeric()==False:\n",
    "            break\n",
    "        elif e.isnumeric()==True:\n",
    "            e=int(e)\n",
    "            my_list.append(e)\n",
    "        my_list.sort()\n",
    "    print(\"\")\n",
    "    print(my_list)\n",
    "my_list()"
   ]
  },
  {
   "cell_type": "code",
   "execution_count": 1,
   "id": "c2c16bcc",
   "metadata": {},
   "outputs": [
    {
     "name": "stdout",
     "output_type": "stream",
     "text": [
      "Enter marks(%): 78\n",
      "Enter marks(%): 83\n",
      "Enter marks(%): 98\n",
      "Enter marks(%): \n",
      " \n",
      "Students with 80% and above:  2\n"
     ]
    }
   ],
   "source": [
    "#Question2\n",
    "def marks_entry():\n",
    "    #marks_entry=[]\n",
    "    good_performance=0\n",
    "    while True:\n",
    "        marks=input(\"Enter marks(%): \")\n",
    "        if marks.isnumeric()==False:\n",
    "            break\n",
    "        elif marks.isnumeric()==True:\n",
    "            marks=int(marks)\n",
    "            if marks>=80:\n",
    "                good_performance+=1\n",
    "    print(\" \")\n",
    "    print(\"Students with 80% and above: \",good_performance)\n",
    "marks_entry()"
   ]
  },
  {
   "cell_type": "code",
   "execution_count": 3,
   "id": "05ad0d86",
   "metadata": {},
   "outputs": [
    {
     "name": "stdout",
     "output_type": "stream",
     "text": [
      "Enter a number: 34\n",
      "Enter a number: 34\n",
      "Enter a number: 223\n",
      "Enter a number: 237\n",
      "Enter a number: \n",
      "\n",
      "[34, 223, 237]\n"
     ]
    }
   ],
   "source": [
    "#Question3\n",
    "def my_list():    \n",
    "    my_list=[]\n",
    "    while True:\n",
    "        e=input(\"Enter a number: \")\n",
    "        if e.isnumeric()==False:\n",
    "            break\n",
    "        elif e.isnumeric()==True:\n",
    "            e=int(e)\n",
    "            my_list.append(e)\n",
    "            my_set=set(my_list)\n",
    "            my_list2=list(my_set)  \n",
    "        my_list2.sort()\n",
    "    print(\"\")\n",
    "    print(my_list2)\n",
    "my_list()"
   ]
  },
  {
   "cell_type": "code",
   "execution_count": 2,
   "id": "21f2f43e",
   "metadata": {},
   "outputs": [
    {
     "name": "stdout",
     "output_type": "stream",
     "text": [
      "Enter item to add to list: eggs\n",
      "Enter item to add to list: bread\n",
      "Enter item to add to list: milk\n",
      "Enter item to add to list: butter\n",
      "Enter item to add to list: \n",
      "\n",
      "Items in your shopping list are: \n",
      "eggs\n",
      "bread\n",
      "milk\n",
      "butter\n",
      "Enter item already bought: eggs\n",
      "\n",
      "You have already bought eggs .\n",
      "Items still in your shopping list are:\n",
      "\n",
      "bread\n",
      "milk\n",
      "butter\n",
      "Enter item already bought: milk\n",
      "\n",
      "You have already bought milk .\n",
      "Items still in your shopping list are:\n",
      "\n",
      "bread\n",
      "butter\n",
      "Enter item already bought: bread\n",
      "\n",
      "You have already bought bread .\n",
      "Items still in your shopping list are:\n",
      "\n",
      "butter\n",
      "Enter item already bought: butter\n",
      "\n",
      "You have already bought butter .\n",
      "Items still in your shopping list are:\n",
      "\n"
     ]
    }
   ],
   "source": [
    "#Question4\n",
    "sh_list=[]\n",
    "def shopping_list():    \n",
    "    while True:\n",
    "        item=input(\"Enter item to add to list: \")\n",
    "        if item==\"\":\n",
    "            break\n",
    "        else:\n",
    "            sh_list.append(item)\n",
    "    print(\"\\nItems in your shopping list are: \")\n",
    "    for i in range(len(sh_list)):\n",
    "        print(sh_list[i])\n",
    "def rem_list(sh_list):\n",
    "    for e in range(len(sh_list)):\n",
    "        ritem=input(\"Enter item already bought: \")\n",
    "        if ritem in sh_list:\n",
    "            sh_list.remove(ritem)\n",
    "            print(\"\\nYou have already bought\",ritem,\".\\nItems still in your shopping list are:\\n\")\n",
    "            for e in range(len(sh_list)): print(sh_list[e])\n",
    "        else: print(\"Item is not in your shopping list!\")\n",
    "        \n",
    "shopping_list()\n",
    "rem_list(sh_list)"
   ]
  },
  {
   "cell_type": "code",
   "execution_count": 5,
   "id": "39ed9372",
   "metadata": {},
   "outputs": [
    {
     "name": "stdout",
     "output_type": "stream",
     "text": [
      "Enter a phrase: ello wor\n",
      "rppi eit\n"
     ]
    }
   ],
   "source": [
    "#Question5\n",
    "phrase=input(\"Enter a phrase: \")\n",
    "#in this case phrase is limited to leters within \"hello world\"\n",
    "dic={'h':'j','e':'r','l':'p','o':'i','w':'e','r':'t','d':'f'}\n",
    "temp=phrase.maketrans(dic)\n",
    "new_phrase=phrase.translate(temp)\n",
    "print(new_phrase)"
   ]
  },
  {
   "cell_type": "code",
   "execution_count": 3,
   "id": "47633b1b",
   "metadata": {},
   "outputs": [
    {
     "name": "stdout",
     "output_type": "stream",
     "text": [
      "Enter friend's name: Debby\n",
      "Enter friend's surname: Debbison\n",
      "Enter friend's age: 92\n",
      "Enter friend's email: debby92@hotmail.com\n",
      "\n",
      "Would you like to add another friend? (Y for yes and N for no) y\n",
      "Enter friend's name: Brian\n",
      "Enter friend's surname: Maina\n",
      "Enter friend's age: 76\n",
      "Enter friend's email: bmaina@yahoo.com\n",
      "\n",
      "Would you like to add another friend? (Y for yes and N for no) n\n",
      "\n",
      "Enter name to search: Brian\n",
      "name :  Brian\n",
      "surname :  Maina\n",
      "age :  76\n",
      "email :  bmaina@yahoo.com\n"
     ]
    }
   ],
   "source": [
    "#Question6\n",
    "Friends_list=[]\n",
    "while True:\n",
    "    friend={}\n",
    "    name=input(\"Enter friend's name: \")\n",
    "    surname=input(\"Enter friend's surname: \")\n",
    "    age=input(\"Enter friend's age: \")\n",
    "    email=input(\"Enter friend's email: \")\n",
    "    confirm=input(\"\\nWould you like to add another friend? (Y for yes and N for no) \")\n",
    "    if confirm.upper()==\"Y\":   \n",
    "        friend[\"name\"]=name\n",
    "        friend[\"surname\"]=surname\n",
    "        friend[\"age\"]=age\n",
    "        friend[\"email\"]=email\n",
    "        Friends_list.append(friend)\n",
    "    elif confirm.upper()==\"N\":\n",
    "        friend[\"name\"]=name\n",
    "        friend[\"surname\"]=surname\n",
    "        friend[\"age\"]=age\n",
    "        friend[\"email\"]=email\n",
    "        Friends_list.append(friend)\n",
    "        break\n",
    "search=input(\"\\nEnter name to search: \")\n",
    "for friend in Friends_list:\n",
    "    if friend[\"name\"]==search:\n",
    "        for i in friend:\n",
    "            print(i,\": \",friend[i])"
   ]
  },
  {
   "cell_type": "code",
   "execution_count": 6,
   "id": "38c5eac5",
   "metadata": {
    "scrolled": true
   },
   "outputs": [
    {
     "name": "stdout",
     "output_type": "stream",
     "text": [
      "Enter student's name: Jack\n",
      "Enter subject: Biology\n",
      "Enter marks attained: 85\n",
      "\n",
      "Would you like to make another entry? (Y for yes and N for no) y\n",
      "Enter student's name: Michael\n",
      "Enter subject: Mathematics\n",
      "Enter marks attained: 76\n",
      "\n",
      "Would you like to make another entry? (Y for yes and N for no) n\n",
      "\n",
      "\n",
      "name :  Jack\n",
      "subject :  Biology\n",
      "marks :  85\n",
      "\n",
      "name :  Michael\n",
      "subject :  Mathematics\n",
      "marks :  76\n"
     ]
    }
   ],
   "source": [
    "#Question7\n",
    "Score_sheet=[]\n",
    "while True:\n",
    "    Score_data={}\n",
    "    name=input(\"Enter student's name: \")\n",
    "    subject=input(\"Enter subject: \")\n",
    "    marks=input(\"Enter marks attained: \")\n",
    "    confirm=input(\"\\nWould you like to make another entry? (Y for yes and N for no) \")\n",
    "    if confirm.upper()==\"Y\":   \n",
    "        Score_data[\"name\"]=name\n",
    "        Score_data[\"subject\"]=subject\n",
    "        Score_data[\"marks\"]=marks\n",
    "        Score_sheet.append(Score_data)\n",
    "    elif confirm.upper()==\"N\":\n",
    "        Score_data[\"name\"]=name\n",
    "        Score_data[\"subject\"]=subject\n",
    "        Score_data[\"marks\"]=marks\n",
    "        Score_sheet.append(Score_data)\n",
    "        break\n",
    "print(\"\")\n",
    "for Score_data in Score_sheet:\n",
    "    print(\"\")\n",
    "    for i in Score_data:\n",
    "        print(i,\": \",Score_data[i],)"
   ]
  },
  {
   "cell_type": "code",
   "execution_count": null,
   "id": "f4b25147",
   "metadata": {},
   "outputs": [],
   "source": []
  }
 ],
 "metadata": {
  "kernelspec": {
   "display_name": "Python 3 (ipykernel)",
   "language": "python",
   "name": "python3"
  },
  "language_info": {
   "codemirror_mode": {
    "name": "ipython",
    "version": 3
   },
   "file_extension": ".py",
   "mimetype": "text/x-python",
   "name": "python",
   "nbconvert_exporter": "python",
   "pygments_lexer": "ipython3",
   "version": "3.9.7"
  }
 },
 "nbformat": 4,
 "nbformat_minor": 5
}
