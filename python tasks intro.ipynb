{
 "cells": [
  {
   "cell_type": "code",
   "execution_count": 1,
   "id": "8245369a",
   "metadata": {},
   "outputs": [
    {
     "name": "stdout",
     "output_type": "stream",
     "text": [
      "Hello world!\n"
     ]
    }
   ],
   "source": [
    "print(\"Hello world!\")"
   ]
  },
  {
   "cell_type": "code",
   "execution_count": 2,
   "id": "40722431",
   "metadata": {},
   "outputs": [
    {
     "name": "stdout",
     "output_type": "stream",
     "text": [
      "Hello world!\n"
     ]
    }
   ],
   "source": [
    "var_1=\"Hello\"\n",
    "var_2=\"world!\"\n",
    "print(var_1+\" \"+var_2)"
   ]
  },
  {
   "cell_type": "code",
   "execution_count": 3,
   "id": "cab5ce44",
   "metadata": {},
   "outputs": [
    {
     "name": "stdout",
     "output_type": "stream",
     "text": [
      "Hello world!\n"
     ]
    }
   ],
   "source": [
    "var1=\"Hello\"\n",
    "var2=\"world\"\n",
    "var3=\"!\"\n",
    "print(var1+\" \"+var2+var3)"
   ]
  },
  {
   "cell_type": "code",
   "execution_count": 4,
   "id": "6a13c625",
   "metadata": {},
   "outputs": [
    {
     "name": "stdout",
     "output_type": "stream",
     "text": [
      "Hello world!Hello world!Hello world!Hello world!Hello world!Hello world!Hello world!Hello world!Hello world!Hello world!Hello world!Hello world!Hello world!Hello world!Hello world!Hello world!Hello world!Hello world!Hello world!Hello world!Hello world!Hello world!Hello world!Hello world!Hello world!Hello world!Hello world!Hello world!Hello world!Hello world!Hello world!Hello world!Hello world!Hello world!Hello world!Hello world!Hello world!Hello world!Hello world!Hello world!Hello world!Hello world!Hello world!Hello world!Hello world!Hello world!Hello world!Hello world!Hello world!Hello world!Hello world!Hello world!Hello world!Hello world!Hello world!Hello world!Hello world!Hello world!Hello world!Hello world!Hello world!Hello world!Hello world!Hello world!Hello world!Hello world!Hello world!Hello world!Hello world!Hello world!Hello world!Hello world!Hello world!Hello world!Hello world!Hello world!Hello world!Hello world!Hello world!Hello world!Hello world!Hello world!Hello world!Hello world!Hello world!Hello world!Hello world!Hello world!Hello world!Hello world!Hello world!Hello world!Hello world!Hello world!Hello world!Hello world!Hello world!Hello world!Hello world!Hello world!\n"
     ]
    }
   ],
   "source": [
    "print(\"Hello world!\"*100)"
   ]
  },
  {
   "cell_type": "code",
   "execution_count": 5,
   "id": "277596f5",
   "metadata": {},
   "outputs": [
    {
     "name": "stdout",
     "output_type": "stream",
     "text": [
      "Hello John Doe. You are 20 years old\n"
     ]
    }
   ],
   "source": [
    "first_name=input(\"what is your first name? \")\n",
    "last_name=input(\"what is your last name? \")\n",
    "age=input(\"How old are you?\")\n",
    "print(\"Hello \"+first_name+\" \"+last_name+\". \"+\"You are \"+age+\" years old\")"
   ]
  },
  {
   "cell_type": "code",
   "execution_count": 6,
   "id": "42309662",
   "metadata": {},
   "outputs": [
    {
     "name": "stdout",
     "output_type": "stream",
     "text": [
      "Hello. Please enter your name, e-mail address and message.\n",
      " \n",
      "Thank you for leaving your message Jack. The following message has been left: \n",
      " \n",
      "\"My computer does not seem to be working. please send help\"\n",
      " \n",
      "We will respond to your message shortly using the e-mail address jack@email\n",
      "Have a good day\n"
     ]
    }
   ],
   "source": [
    "print(\"Hello. Please enter your name, e-mail address and message.\")\n",
    "Name=input(\"Name: \")\n",
    "email=input(\"email: \")\n",
    "Message=input(\"Message: \")\n",
    "print(\" \")\n",
    "print(\"Thank you for leaving your message \"+Name+\". \"\"The following message has been left: \" )\n",
    "print(\" \")\n",
    "print(\"\\\"\"+Message+\"\\\"\")\n",
    "print(\" \")\n",
    "print(\"We will respond to your message shortly using the e-mail address \"+email+\"\\nHave a good day\")"
   ]
  },
  {
   "cell_type": "code",
   "execution_count": 7,
   "id": "1db1263a",
   "metadata": {},
   "outputs": [
    {
     "name": "stdout",
     "output_type": "stream",
     "text": [
      "Stuart's car is called \"Megatron\"\n"
     ]
    }
   ],
   "source": [
    "print(\"Stuart\\'s car is called \\\"Megatron\\\"\")"
   ]
  },
  {
   "cell_type": "code",
   "execution_count": 8,
   "id": "a6216a2b",
   "metadata": {},
   "outputs": [
    {
     "name": "stdout",
     "output_type": "stream",
     "text": [
      "Hello world!\n",
      "Hello world!\n",
      "Hello world!\n",
      "Hello world!\n",
      "Hello world!\n",
      "Hello world!\n",
      "Hello world!\n",
      "Hello world!\n",
      "Hello world!\n",
      "Hello world!\n",
      "Hello world!\n",
      "Hello world!\n",
      "Hello world!\n",
      "Hello world!\n",
      "Hello world!\n",
      "Hello world!\n",
      "Hello world!\n",
      "Hello world!\n",
      "Hello world!\n",
      "Hello world!\n",
      "Hello world!\n",
      "Hello world!\n",
      "Hello world!\n",
      "Hello world!\n",
      "Hello world!\n",
      "Hello world!\n",
      "Hello world!\n",
      "Hello world!\n",
      "Hello world!\n",
      "Hello world!\n",
      "Hello world!\n",
      "Hello world!\n",
      "Hello world!\n",
      "Hello world!\n",
      "Hello world!\n",
      "Hello world!\n",
      "Hello world!\n",
      "Hello world!\n",
      "Hello world!\n",
      "Hello world!\n",
      "Hello world!\n",
      "Hello world!\n",
      "Hello world!\n",
      "Hello world!\n",
      "Hello world!\n",
      "Hello world!\n",
      "Hello world!\n",
      "Hello world!\n",
      "Hello world!\n",
      "Hello world!\n",
      "Hello world!\n",
      "Hello world!\n",
      "Hello world!\n",
      "Hello world!\n",
      "Hello world!\n",
      "Hello world!\n",
      "Hello world!\n",
      "Hello world!\n",
      "Hello world!\n",
      "Hello world!\n",
      "Hello world!\n",
      "Hello world!\n",
      "Hello world!\n",
      "Hello world!\n",
      "Hello world!\n",
      "Hello world!\n",
      "Hello world!\n",
      "Hello world!\n",
      "Hello world!\n",
      "Hello world!\n",
      "Hello world!\n",
      "Hello world!\n",
      "Hello world!\n",
      "Hello world!\n",
      "Hello world!\n",
      "Hello world!\n",
      "Hello world!\n",
      "Hello world!\n",
      "Hello world!\n",
      "Hello world!\n",
      "Hello world!\n",
      "Hello world!\n",
      "Hello world!\n",
      "Hello world!\n",
      "Hello world!\n",
      "Hello world!\n",
      "Hello world!\n",
      "Hello world!\n",
      "Hello world!\n",
      "Hello world!\n",
      "Hello world!\n",
      "Hello world!\n",
      "Hello world!\n",
      "Hello world!\n",
      "Hello world!\n",
      "Hello world!\n",
      "Hello world!\n",
      "Hello world!\n",
      "Hello world!\n",
      "Hello world!\n"
     ]
    }
   ],
   "source": [
    "string=\"Hello world!\"\n",
    "for i in range(100):\n",
    "    print(string)"
   ]
  },
  {
   "cell_type": "code",
   "execution_count": 9,
   "id": "8c969a57",
   "metadata": {},
   "outputs": [
    {
     "name": "stdout",
     "output_type": "stream",
     "text": [
      " \n",
      "The value of x is 6\n",
      "You added 8 to x. The value of x is now equal to 14\n",
      "You added 10 to x. The value of x is now equal to 24\n"
     ]
    }
   ],
   "source": [
    "x=int(input(\"Enter an integer: \"))\n",
    "x1=int(input(\"Enter an integer: \"))\n",
    "x3=int(input(\"Enter an integer: \"))\n",
    "x2=(x1)+(x)\n",
    "x4=(x2)+(x3)\n",
    "print(\" \")\n",
    "print(\"The value of x is %i\"%(x))\n",
    "print(\"You added %i to x. The value of x is now equal to %i\"%(x1,x2))\n",
    "print(\"You added %i to x. The value of x is now equal to %i\"%(x3,x4))"
   ]
  },
  {
   "cell_type": "code",
   "execution_count": 10,
   "id": "5ade8780",
   "metadata": {},
   "outputs": [
    {
     "name": "stdout",
     "output_type": "stream",
     "text": [
      " \n",
      "Sum= 75\n",
      "Difference= 5\n",
      "Product= 1400\n",
      "q1= 1.142857\n",
      "q2= 1, 5\n"
     ]
    }
   ],
   "source": [
    "user_entry1=int(input(\"Please enter a number \"))\n",
    "user_entry2=int(input(\"Please enter another number \"))\n",
    "s=(user_entry1+user_entry2)\n",
    "d=(user_entry1-user_entry2)\n",
    "p=(user_entry1*user_entry2)\n",
    "q1=(user_entry1/user_entry2)\n",
    "q2=divmod(user_entry1, user_entry2)\n",
    "print(\" \")\n",
    "print(\"Sum= %i\"%(s))\n",
    "print(\"Difference= %i\"%(d))\n",
    "print(\"Product= %i\"%(p))\n",
    "print(\"q1= %f\"%(q1))\n",
    "print(\"q2= %i, %i\"%(q2))"
   ]
  },
  {
   "cell_type": "code",
   "execution_count": null,
   "id": "3de82e5a",
   "metadata": {},
   "outputs": [],
   "source": []
  }
 ],
 "metadata": {
  "kernelspec": {
   "display_name": "Python 3 (ipykernel)",
   "language": "python",
   "name": "python3"
  },
  "language_info": {
   "codemirror_mode": {
    "name": "ipython",
    "version": 3
   },
   "file_extension": ".py",
   "mimetype": "text/x-python",
   "name": "python",
   "nbconvert_exporter": "python",
   "pygments_lexer": "ipython3",
   "version": "3.12.2"
  }
 },
 "nbformat": 4,
 "nbformat_minor": 5
}
